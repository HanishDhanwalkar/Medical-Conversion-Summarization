{
 "cells": [
  {
   "cell_type": "code",
   "execution_count": 2,
   "metadata": {},
   "outputs": [],
   "source": [
    "import os\n",
    "from dotenv import load_dotenv\n",
    "load_dotenv()\n",
    "\n",
    "api_key = os.getenv('API_KEY')\n"
   ]
  },
  {
   "cell_type": "code",
   "execution_count": 8,
   "metadata": {},
   "outputs": [
    {
     "data": {
      "text/html": [
       "<div>\n",
       "<style scoped>\n",
       "    .dataframe tbody tr th:only-of-type {\n",
       "        vertical-align: middle;\n",
       "    }\n",
       "\n",
       "    .dataframe tbody tr th {\n",
       "        vertical-align: top;\n",
       "    }\n",
       "\n",
       "    .dataframe thead th {\n",
       "        text-align: right;\n",
       "    }\n",
       "</style>\n",
       "<table border=\"1\" class=\"dataframe\">\n",
       "  <thead>\n",
       "    <tr style=\"text-align: right;\">\n",
       "      <th></th>\n",
       "      <th>ID</th>\n",
       "      <th>section_header</th>\n",
       "      <th>section_text</th>\n",
       "      <th>dialogue</th>\n",
       "    </tr>\n",
       "  </thead>\n",
       "  <tbody>\n",
       "    <tr>\n",
       "      <th>0</th>\n",
       "      <td>0</td>\n",
       "      <td>GENHX</td>\n",
       "      <td>The patient is a 76-year-old white female who ...</td>\n",
       "      <td>Doctor: What brings you back into the clinic t...</td>\n",
       "    </tr>\n",
       "    <tr>\n",
       "      <th>1</th>\n",
       "      <td>1</td>\n",
       "      <td>GENHX</td>\n",
       "      <td>The patient is a 25-year-old right-handed Cauc...</td>\n",
       "      <td>Doctor: How're you feeling today?  \\r\\nPatient...</td>\n",
       "    </tr>\n",
       "    <tr>\n",
       "      <th>2</th>\n",
       "      <td>2</td>\n",
       "      <td>GENHX</td>\n",
       "      <td>This is a 22-year-old female, who presented to...</td>\n",
       "      <td>Doctor: Hello, miss. What is the reason for yo...</td>\n",
       "    </tr>\n",
       "    <tr>\n",
       "      <th>3</th>\n",
       "      <td>3</td>\n",
       "      <td>MEDICATIONS</td>\n",
       "      <td>Prescribed medications were Salmeterol inhaler...</td>\n",
       "      <td>Doctor: Are you taking any over the counter me...</td>\n",
       "    </tr>\n",
       "    <tr>\n",
       "      <th>4</th>\n",
       "      <td>4</td>\n",
       "      <td>CC</td>\n",
       "      <td>Burn, right arm.</td>\n",
       "      <td>Doctor: Hi, how are you? \\r\\nPatient: I burned...</td>\n",
       "    </tr>\n",
       "  </tbody>\n",
       "</table>\n",
       "</div>"
      ],
      "text/plain": [
       "  ID section_header                                       section_text  \\\n",
       "0  0          GENHX  The patient is a 76-year-old white female who ...   \n",
       "1  1          GENHX  The patient is a 25-year-old right-handed Cauc...   \n",
       "2  2          GENHX  This is a 22-year-old female, who presented to...   \n",
       "3  3    MEDICATIONS  Prescribed medications were Salmeterol inhaler...   \n",
       "4  4             CC                                   Burn, right arm.   \n",
       "\n",
       "                                            dialogue  \n",
       "0  Doctor: What brings you back into the clinic t...  \n",
       "1  Doctor: How're you feeling today?  \\r\\nPatient...  \n",
       "2  Doctor: Hello, miss. What is the reason for yo...  \n",
       "3  Doctor: Are you taking any over the counter me...  \n",
       "4  Doctor: Hi, how are you? \\r\\nPatient: I burned...  "
      ]
     },
     "execution_count": 8,
     "metadata": {},
     "output_type": "execute_result"
    }
   ],
   "source": [
    "import pandas as pd\n",
    "\n",
    "df = pd.read_csv(\"../MTS-Dialog-main/MTS-Dialog-main/Augmented-Data/MTS-Dialog-Augmented-TrainingSet-1-En-FR-EN-2402-Pairs.csv\")\n",
    "\n",
    "df.head()"
   ]
  },
  {
   "cell_type": "code",
   "execution_count": 9,
   "metadata": {},
   "outputs": [
    {
     "data": {
      "text/plain": [
       "'The patient is a 76-year-old white female who presents to the clinic today originally for hypertension and a med check.  She has a history of hypertension, osteoarthritis, osteoporosis, hypothyroidism, allergic rhinitis and kidney stones.  Since her last visit she has been followed by Dr. Kumar.  Those issues are stable.  She has had no fever or chills, cough, congestion, nausea, vomiting, chest pain, chest pressure.'"
      ]
     },
     "execution_count": 9,
     "metadata": {},
     "output_type": "execute_result"
    }
   ],
   "source": [
    "df.iloc[0][\"section_text\"]"
   ]
  },
  {
   "cell_type": "code",
   "execution_count": 13,
   "metadata": {},
   "outputs": [
    {
     "name": "stdout",
     "output_type": "stream",
     "text": [
      "Doctor: What brings you back into the clinic today, miss? \n",
      "Patient: I came in for a refill of my blood pressure medicine. \n",
      "Doctor: It looks like Doctor Kumar followed up with you last time regarding your hypertension, osteoarthritis, osteoporosis, hypothyroidism, allergic rhinitis and kidney stones.  Have you noticed any changes or do you have any concerns regarding these issues?  \n",
      "Patient: No. \n",
      "Doctor: Have you had any fever or chills, cough, congestion, nausea, vomiting, chest pain, chest pressure?\n",
      "Patient: No.  \n",
      "Doctor: Great. Also, for our records, how old are you and what race do you identify yourself as?\n",
      "Patient: I am seventy six years old and identify as a white female.\n"
     ]
    }
   ],
   "source": [
    "print(f\"{df.iloc[0]['dialogue']}\")"
   ]
  },
  {
   "cell_type": "code",
   "execution_count": 17,
   "metadata": {},
   "outputs": [],
   "source": [
    "import google.generativeai as genai\n",
    "\n",
    "genai.configure(api_key= api_key)\n",
    "model = genai.GenerativeModel('gemini-1.5-flash')\n",
    "\n",
    "def get_prompt(conversation): \n",
    "    prompt = f\"\"\"Summarize the conversation below in clinical notes format.\n",
    "\n",
    "    Conversation 1: \"Doctor: When did your pain begin? \n",
    "            Patient: I've had low back pain for about eight years now.\n",
    "            Doctor: Is there any injury? \n",
    "            Patient: Yeah, it started when I fell in an A B C store.\n",
    "            Doctor: How old are you now?\n",
    "            Patient: I'm twenty six.  \n",
    "            Doctor: What kind of treatments have you had for this low back pain? \n",
    "            Patient: Yeah, I got referred to P T, and I went, but only once or twice, um, and if I remember right, they only did the electrical stimulation, and heat. \n",
    "            Doctor: I see, how has your pain progressed over the last eight years? \n",
    "            Patient: It's been pretty continuous, but it's been at varying degrees, sometimes are better than others. \n",
    "            Doctor: Do you have any children? \n",
    "            Patient: Yes, I had my son in August of two thousand eight, and I've had back pain since giving birth. \n",
    "            Doctor: Have you had any falls since the initial one? \n",
    "            Patient: Yes, I fell four or five days ago while I was mopping the floor. \n",
    "            Doctor: Did you land on your lower back again?\n",
    "            Patient: Yes, right onto my tailbone. \n",
    "            Doctor: Did that make the low back pain worse? \n",
    "            Patient: Yes. \n",
    "            Doctor: Have you seen any other doctors for this issue? \n",
    "            Patient: Yes, I saw Doctor X on January tenth two thousand nine, and I have a follow up appointment scheduled for February tenth two thousand nine.\"\n",
    "    Summary 1: The patient is a 26-year-old female, referred to Physical Therapy for low back pain. The patient has a history of traumatic injury to low back.  The patient stated initial injury occurred eight years ago, when she fell at a ABC Store.  The patient stated she received physical therapy, one to two visits and received modality treatment only, specifically electrical stimulation and heat pack per patient recollection.  The patient stated that she has had continuous low-back pain at varying degrees for the past eight years since that fall.  The patient gave birth in August 2008 and since the childbirth, has experienced low back pain.  The patient also states that she fell four to five days ago, while mopping her floor.  The patient stated that she landed on her tailbone and symptoms have increased since that fall.  The patient stated that her initial physician examination with Dr. X was on 01/10/09, and has a followup appointment on 02/10/09.\n",
    "    ##\n",
    "    Conversation 2: Doctor: Hey, bud. What brings you in today? \n",
    "            Patient: A rash on my upper arms and torso. \n",
    "            Doctor: When did it start? \n",
    "            Patient: Bout a day or two ago. \n",
    "            Doctor: Any itchiness to the area? \n",
    "            Patient: Yes, a lot actually. \n",
    "            Doctor: Have you had episodes of shortness of breath or wheezing? \n",
    "            Patient: No. \n",
    "            Doctor: How about swelling to your lips, tongue, or throat? \n",
    "            Patient: No. \n",
    "            Doctor: And no nausea or headaches? \n",
    "            Patient: No. \n",
    "            Doctor: Have you applied anything to the rash? \n",
    "            Patient: No, I thought it'd go away on its own.\n",
    "    Summary 2: As mentioned denies any oropharyngeal swelling.  No lip or tongue swelling.  No wheezing or shortness of breath.  No headache.  No nausea.  Notes itchy rash, especially on his torso and upper arms.\n",
    "    ##\n",
    "    Conversation 3: {conversation}\n",
    "    Summary 3:\"\"\"\n",
    "\n",
    "    return prompt\n",
    "\n"
   ]
  },
  {
   "cell_type": "code",
   "execution_count": 22,
   "metadata": {},
   "outputs": [],
   "source": [
    "def get_summary(conversation):\n",
    "    response = model.generate_content(get_prompt(conversation))\n",
    "    return response.text"
   ]
  },
  {
   "cell_type": "code",
   "execution_count": 23,
   "metadata": {},
   "outputs": [
    {
     "name": "stdout",
     "output_type": "stream",
     "text": [
      "## Summary 3:\n",
      "\n",
      "Patient denies any changes in medical history since last visit on 04/15/2005. Patient denies any new medical conditions or experiencing any new symptoms. \n",
      "\n"
     ]
    }
   ],
   "source": [
    "conversation = '''Doctor: Has anything changed in your medical history since you last visit on April fifteenth two thousand five?\n",
    "Patient: What do you mean by that?\n",
    "Doctor: Have you been diagnosed with any new medical conditions, or are you experiencing any new symptoms?\n",
    "Patient: Oh, no, nothing like that'''\n",
    "\n",
    "print(f\"{get_summary(conversation)}\")\n"
   ]
  },
  {
   "cell_type": "code",
   "execution_count": 24,
   "metadata": {},
   "outputs": [
    {
     "name": "stdout",
     "output_type": "stream",
     "text": [
      "## Summary 3: \n",
      "\n",
      "The patient is a 76-year-old White female presenting for a refill of her blood pressure medication. She reports no changes or concerns regarding her previously documented medical conditions, which include hypertension, osteoarthritis, osteoporosis, hypothyroidism, allergic rhinitis, and kidney stones. The patient denies any fever, chills, cough, congestion, nausea, vomiting, chest pain, or chest pressure. \n",
      "\n"
     ]
    }
   ],
   "source": [
    "conversation = \"\"\"\n",
    "    Doctor: What brings you back into the clinic today, miss? \n",
    "    Patient: I came in for a refill of my blood pressure medicine. \n",
    "    Doctor: It looks like Doctor Kumar followed up with you last time regarding your hypertension, osteoarthritis, osteoporosis, hypothyroidism, allergic rhinitis and kidney stones.  Have you noticed any changes or do you have any concerns regarding these issues?  \n",
    "    Patient: No. \n",
    "    Doctor: Have you had any fever or chills, cough, congestion, nausea, vomiting, chest pain, chest pressure?\n",
    "    Patient: No.  \n",
    "    Doctor: Great. Also, for our records, how old are you and what race do you identify yourself as?\n",
    "    Patient: I am seventy six years old and identify as a white female.\n",
    "    \"\"\"\n",
    "\n",
    "print(f\"{get_summary(conversation)}\")"
   ]
  },
  {
   "cell_type": "code",
   "execution_count": 26,
   "metadata": {},
   "outputs": [
    {
     "name": "stdout",
     "output_type": "stream",
     "text": [
      "## Summary 3:\n",
      "\n",
      "**Patient reports a positive family history of heart disease in both parents.** Mother died from complications of heart disease in her 40s.  Patient's father also passed away in his 40s from heart disease. Patient has two brothers, one of whom he does not speak to and is unaware of his health status.  The other brother is reportedly healthy.  **Patient reports two maternal uncles with polio.**  One uncle had significant leg deformities requiring crutches and the other had leg deformities in only one leg.  Patient denies any other known family history of neurological conditions.  Patient has one healthy child. \n",
      "\n"
     ]
    }
   ],
   "source": [
    "conversation = \"\"\"\n",
    "    Doctor: Hi there, sir! How are you today? \n",
    "    Patient: Hello! I am good.\n",
    "    Doctor: I would like to start with your family medical history today. What do you know about their medical history? \n",
    "    Patient: My mother and father both had heart disease. Well, my mother had complication from her heart disease and that is how she passed.  My father was only in his forty's when he died. \n",
    "    Doctor: I am so sorry the hear that. \n",
    "    Patient: Thank you. I have two brothers, one whom I don't speak to very much anymore. I don't know if he has any health problems. My other brother is healthy with no issues. Both my uncles on my mother's side had polio, I think. \n",
    "    Doctor: Tell me more about your uncles with polio. They both had polio? \n",
    "    Patient: One of them had to wear crutches due to how bad his leg deformans were and then the other had leg deformities in only one leg.  I am fairly certain that they had polio.  \n",
    "    Doctor: Do you know of any other family member with neurological conditions?\n",
    "    Patient: No. None that I know of. \n",
    "    Doctor: Do you have any children? \n",
    "    Patient: Yes. I have one child. \n",
    "    Doctor: Is your child healthy and well? \n",
    "    Patient: Yes.\n",
    "    \"\"\"\n",
    "\n",
    "print(f\"{get_summary(conversation)}\")"
   ]
  },
  {
   "cell_type": "code",
   "execution_count": null,
   "metadata": {},
   "outputs": [],
   "source": []
  }
 ],
 "metadata": {
  "kernelspec": {
   "display_name": "base",
   "language": "python",
   "name": "python3"
  },
  "language_info": {
   "codemirror_mode": {
    "name": "ipython",
    "version": 3
   },
   "file_extension": ".py",
   "mimetype": "text/x-python",
   "name": "python",
   "nbconvert_exporter": "python",
   "pygments_lexer": "ipython3",
   "version": "3.11.7"
  }
 },
 "nbformat": 4,
 "nbformat_minor": 2
}
